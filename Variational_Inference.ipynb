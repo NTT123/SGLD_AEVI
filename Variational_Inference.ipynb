{
  "nbformat": 4,
  "nbformat_minor": 0,
  "metadata": {
    "colab": {
      "name": "Variational Inference.ipynb",
      "version": "0.3.2",
      "provenance": [],
      "collapsed_sections": [],
      "include_colab_link": true
    },
    "kernelspec": {
      "name": "python3",
      "display_name": "Python 3"
    },
    "accelerator": "GPU"
  },
  "cells": [
    {
      "cell_type": "markdown",
      "metadata": {
        "id": "view-in-github",
        "colab_type": "text"
      },
      "source": [
        "[View in Colaboratory](https://colab.research.google.com/github/NTT123/SGLD_AEVI/blob/master/Variational_Inference.ipynb)"
      ]
    },
    {
      "metadata": {
        "id": "JuQEVlUPiY-i",
        "colab_type": "text"
      },
      "cell_type": "markdown",
      "source": [
        "## Data \n",
        "\n",
        "\n",
        "$$\n",
        "\\begin{align}\n",
        "Y &= a X_1 + b X_2 + intercept + r \\\\\n",
        "r &\\sim \\mathcal N(0, \\sigma^2)\n",
        "\\end{align}\n",
        "$$\n",
        "\n",
        "We generate a dataset with \n",
        "$$\n",
        "\\begin{align}\n",
        "a  &= +2.0 \\\\\n",
        "b &= -3.5 \\\\\n",
        "intercept &= -5.0 \\\\\n",
        "\\sigma &= +3.0\n",
        "\\end{align}\n",
        "$$\n"
      ]
    },
    {
      "metadata": {
        "id": "XLvrRQUIyrwA",
        "colab_type": "code",
        "colab": {
          "base_uri": "https://localhost:8080/",
          "height": 34
        },
        "outputId": "f4bc916a-e2c3-4f78-c481-1cfaf1e13014"
      },
      "cell_type": "code",
      "source": [
        "#@title\n",
        "# http://pytorch.org/\n",
        "from os import path\n",
        "from wheel.pep425tags import get_abbr_impl, get_impl_ver, get_abi_tag\n",
        "platform = '{}{}-{}'.format(get_abbr_impl(), get_impl_ver(), get_abi_tag())\n",
        "\n",
        "accelerator = 'cu80' if path.exists('/opt/bin/nvidia-smi') else 'cpu'\n",
        "\n",
        "!pip install -q http://download.pytorch.org/whl/{accelerator}/torch-0.4.0-{platform}-linux_x86_64.whl torchvision\n",
        "import torch\n",
        "import tensorflow as tf\n",
        "\n",
        "#@title\n",
        "from pylab import rcParams\n",
        "import matplotlib.pyplot as plt\n",
        "rcParams['figure.figsize'] = 4,3\n",
        "rcParams['font.size'] = 14\n",
        "plt.style.use('ggplot')\n",
        "\n",
        "plt.rcParams['font.serif'] = 'dejavuserif'\n",
        "plt.rcParams['font.monospace'] = 'Ubuntu Mono'\n",
        "plt.rcParams['font.size'] = 16\n",
        "plt.rcParams['axes.labelsize'] = 14\n",
        "plt.rcParams['axes.labelweight'] = 'bold'\n",
        "plt.rcParams['axes.titlesize'] = 14\n",
        "plt.rcParams['xtick.labelsize'] = 12\n",
        "plt.rcParams['ytick.labelsize'] = 12\n",
        "plt.rcParams['legend.fontsize'] = 14\n",
        "plt.rcParams['figure.titlesize'] = 16"
      ],
      "execution_count": 130,
      "outputs": [
        {
          "output_type": "stream",
          "text": [
            "\u001b[31mtorch-0.4.0-cp36-cp36m-linux_x86_64.whl is not a supported wheel on this platform.\u001b[0m\r\n"
          ],
          "name": "stdout"
        }
      ]
    },
    {
      "metadata": {
        "id": "ziO0zpJcdRDy",
        "colab_type": "code",
        "colab": {
          "base_uri": "https://localhost:8080/",
          "height": 217
        },
        "outputId": "d2907fc8-e7cd-4865-9f56-ef4a9e7901c4"
      },
      "cell_type": "code",
      "source": [
        "#@title Generate Data\n",
        "import torch\n",
        "N = 100\n",
        "\n",
        "isCuda = False\n",
        "if torch.cuda.device_count() > 0:\n",
        "    isCuda = True\n",
        "\n",
        "    \n",
        "isCuda = False\n",
        "\n",
        "a = 2.0\n",
        "b = -3.5\n",
        "intercept = -5.0\n",
        "noise = 0.1\n",
        "\n",
        "### \n",
        "\n",
        "#@title\n",
        "def generateData():\n",
        "    X = torch.rand(N, 2) - 0.5\n",
        "    theta = torch.zeros(2, 1)\n",
        "    theta[0, 0] = a\n",
        "    theta[1, 0] = b\n",
        "    Y = torch.mm(X, theta) + intercept + noise * torch.randn(N, 1)\n",
        "    data = torch.Tensor( N, 3 )\n",
        "    data[:, 0:2] = X\n",
        "    data[:, 2] = Y[:,0]\n",
        "    return data, X, Y\n",
        "\n",
        "#@title\n",
        "data, X, Y = generateData()\n",
        "if isCuda:\n",
        "    data = data.cuda()\n",
        "    X = X.cuda()\n",
        "    Y = Y.cuda()\n",
        "    \n",
        "import seaborn as sns\n",
        "_ = plt.scatter(X[:, 1], Y[:,0])"
      ],
      "execution_count": 131,
      "outputs": [
        {
          "output_type": "display_data",
          "data": {
            "text/plain": [
              "<Figure size 288x216 with 1 Axes>"
            ],
            "image/png": "[encoded data removed]"
          },
          "metadata": {
            "tags": []
          }
        }
      ]
    },
    {
      "metadata": {
        "id": "6LSMDnTZiOPX",
        "colab_type": "code",
        "colab": {}
      },
      "cell_type": "code",
      "source": [
        "#@title Posterior function\n",
        "\n",
        "def log_prior(theta):\n",
        "    coeff = theta[0:3]\n",
        "    sigma = theta[3]\n",
        "    hc = HalfCauchy(0.0, 10.0)\n",
        "\n",
        "    sigma1 = 10.0\n",
        "    \n",
        "    return torch.sum(  -torch.pow(coeff, 2) * 0.5 / (sigma1**2) \\\n",
        "                     -  math.log(sigma1) )  + hc.log_pdf_param(sigma)\n",
        "\n",
        "def log_likelihood(theta, data):\n",
        "    X = data[:, 0:2]\n",
        "    Y = data[:, 2:3]\n",
        "    slope = theta[0:2]\n",
        "    intercept = theta[2]\n",
        "    sigma = torch.exp(theta[3])\n",
        "    return torch.sum(- torch.pow(Y - (torch.mm(X, slope) + intercept), 2) * 0.5\\\n",
        "                          / torch.pow(sigma, 2) - theta[3]  )\n",
        "\n",
        "def log_posterior(theta, data):\n",
        "    return log_likelihood(theta, data) + log_prior(theta)\n",
        "\n",
        "\n",
        "import math\n",
        "class HalfCauchy:\n",
        "    def __init__(self, median, scale):\n",
        "        self.x0 = median\n",
        "        self.gamma = scale\n",
        "    def log_pdf(self, x):\n",
        "        inv =   math.log(math.pi) + math.log(self.gamma) + \\\n",
        "                    torch.log( 1.0 + torch.pow(x - self.x0, 2) / self.gamma)\n",
        "        \n",
        "        return math.log(2.0) - inv\n",
        "    \n",
        "        \n",
        "    def get(self, param):    \n",
        "        return torch.exp(param)\n",
        "    \n",
        "    def pdf(self, param):\n",
        "        return torch.exp(  self.log_pdf(self.get(param)) )\n",
        "    \n",
        "    def log_pdf_param(self, param):\n",
        "        x = torch.exp(param)\n",
        "        return self.log_pdf(x) + param\n",
        "        \n",
        "    def pdf_param(self, param):\n",
        "        #self.param.zero_()\n",
        "        #self.param[0] = param\n",
        "        x = torch.exp(param)\n",
        "        return self.pdf(x) * torch.exp(param)     \n",
        "    \n",
        "    \n",
        "theta = torch.zeros(4, 1, requires_grad=True)\n",
        "if isCuda:\n",
        "    theta = theta.data.cuda()\n",
        "theta.requires_grad= True"
      ],
      "execution_count": 0,
      "outputs": []
    },
    {
      "metadata": {
        "id": "RXzKlg7Ix9Vl",
        "colab_type": "code",
        "colab": {
          "base_uri": "https://localhost:8080/",
          "height": 51
        },
        "outputId": "b43b0b85-b81b-4587-d67e-54d28b70bafa"
      },
      "cell_type": "code",
      "source": [
        "#@title\n",
        "def computeK(p):\n",
        "    return torch.sum(torch.pow(p,2) / 2.0).data\n",
        "\n",
        "def computeU(theta, data):\n",
        "    return -log_posterior(theta, data)\n",
        "\n",
        "def computeH(theta, p, data):\n",
        "    return computeK(p) + computeU(theta, data)\n",
        "\n",
        "\n",
        "def gradientOfU(theta, data):\n",
        "    theta.requires_grad= True\n",
        "    if torch.is_tensor(theta.grad):\n",
        "        theta.grad.zero_()\n",
        "    out = computeU(theta, data)\n",
        "    out.backward()\n",
        "    theta.requires_grad= False\n",
        "    return theta.grad.data\n",
        "\n",
        "def gradientOfK(p):\n",
        "    return p\n",
        "\n",
        "data.requires_grad = False\n",
        "!pip install tqdm\n",
        "import tqdm"
      ],
      "execution_count": 133,
      "outputs": [
        {
          "output_type": "stream",
          "text": [
            "Requirement already satisfied: tqdm in ./anaconda3/lib/python3.6/site-packages (4.11.2)\n",
            "\u001b[31mdistributed 1.22.0 requires msgpack, which is not installed.\u001b[0m\n"
          ],
          "name": "stdout"
        }
      ]
    },
    {
      "metadata": {
        "id": "X_Ta_kGYh_-8",
        "colab_type": "text"
      },
      "cell_type": "markdown",
      "source": [
        "## Maximum-a-posteriori (MAP) estimation"
      ]
    },
    {
      "metadata": {
        "id": "t99OYb3b1OaV",
        "colab_type": "code",
        "colab": {
          "base_uri": "https://localhost:8080/",
          "height": 51
        },
        "outputId": "70af44b9-bf46-4c47-c724-c411875c5f3c"
      },
      "cell_type": "code",
      "source": [
        "optimizer = torch.optim.SGD([ theta ], lr=1e-2)\n",
        "for t in tqdm.tqdm(range(100000)):\n",
        "    loss = -log_posterior(theta, data) / N\n",
        "    optimizer.zero_grad()\n",
        "    loss.backward()\n",
        "    optimizer.step()\n",
        "\n",
        "print(loss.item())"
      ],
      "execution_count": 64,
      "outputs": [
        {
          "output_type": "stream",
          "text": [
            "100%|██████████| 100000/100000 [00:41<00:00, 2417.16it/s]"
          ],
          "name": "stderr"
        },
        {
          "output_type": "stream",
          "text": [
            "-1.7729414701461792\n"
          ],
          "name": "stdout"
        },
        {
          "output_type": "stream",
          "text": [
            "\n"
          ],
          "name": "stderr"
        }
      ]
    },
    {
      "metadata": {
        "id": "GbBa5UDt_ieL",
        "colab_type": "code",
        "colab": {
          "base_uri": "https://localhost:8080/",
          "height": 85
        },
        "outputId": "3a1405c3-7da1-4912-d404-72798a0b1e27"
      },
      "cell_type": "code",
      "source": [
        "print( \"a = %f\\nb=%f\\nintercept=%f\\nsigma=%f\" % (theta[0,0].item(),\n",
        "                                                  theta[1,0].item(),\n",
        "                                                  theta[2,0].item(),\n",
        "                                                  math.exp(theta[3,0].item()) ))"
      ],
      "execution_count": 134,
      "outputs": [
        {
          "output_type": "stream",
          "text": [
            "a = 0.000000\n",
            "b=0.000000\n",
            "intercept=0.000000\n",
            "sigma=1.000000\n"
          ],
          "name": "stdout"
        }
      ]
    },
    {
      "metadata": {
        "id": "6a5mfCFsKeOz",
        "colab_type": "code",
        "colab": {
          "base_uri": "https://localhost:8080/",
          "height": 85
        },
        "outputId": "aa56ba73-fe00-4133-f6e2-1d354328e20b"
      },
      "cell_type": "code",
      "source": [
        "#@title\n",
        "!pip install pystan"
      ],
      "execution_count": 135,
      "outputs": [
        {
          "output_type": "stream",
          "text": [
            "Requirement already satisfied: pystan in ./anaconda3/lib/python3.6/site-packages (2.17.1.0)\r\n",
            "Requirement already satisfied: numpy>=1.7 in ./anaconda3/lib/python3.6/site-packages (from pystan) (1.14.5)\r\n",
            "Requirement already satisfied: Cython!=0.25.1,>=0.22 in ./anaconda3/lib/python3.6/site-packages (from pystan) (0.28.3)\n",
            "\u001b[31mdistributed 1.22.0 requires msgpack, which is not installed.\u001b[0m\n"
          ],
          "name": "stdout"
        }
      ]
    },
    {
      "metadata": {
        "id": "Zc3S7N7FKf_M",
        "colab_type": "code",
        "colab": {
          "base_uri": "https://localhost:8080/",
          "height": 88
        },
        "outputId": "3f2b7a85-6e8e-4b33-b022-6b4430d9e1c6"
      },
      "cell_type": "code",
      "source": [
        "#@title\n",
        "import pystan\n",
        "\n",
        "linreg_code = \"\"\"\n",
        "data {\n",
        "    int<lower=0> N;\n",
        "    matrix[N, 2] x; \n",
        "    real y[N]; \n",
        "}\n",
        "parameters {\n",
        "    real intercept;\n",
        "    vector[2] theta;\n",
        "    real<lower=0> sigma;\n",
        "}\n",
        "\n",
        "\n",
        "model {\n",
        "    vector[N] yhat;\n",
        "    theta ~ normal(0.0, 10.0);\n",
        "    intercept ~ normal(0.0, 10.0);\n",
        "    sigma ~ cauchy(0.0, 1.0);\n",
        "    \n",
        "    yhat = x * theta + intercept;    \n",
        "    \n",
        "    y ~ normal(yhat, sigma);\n",
        "}\n",
        "\"\"\"\n",
        "\n",
        "sm = pystan.StanModel(model_code=linreg_code)\n",
        "#@title\n",
        "X = data[:, 0:2]\n",
        "Y = data[:, 2:3]\n",
        "\n",
        "dat = {'N':N, \n",
        "       'x': X.cpu().numpy().reshape( (N, 2)),\n",
        "       'y': Y.cpu().numpy().reshape( (N) )  }\n",
        "\n",
        "fit = sm.sampling(data=dat, iter=10000, chains=1)"
      ],
      "execution_count": 146,
      "outputs": [
        {
          "output_type": "stream",
          "text": [
            "INFO:pystan:COMPILING THE C++ CODE FOR MODEL anon_model_4daf455acfcec749c560df45af6f28b5 NOW.\n",
            "/Users/xcode/anaconda3/lib/python3.6/site-packages/pystan/misc.py:399: FutureWarning: Conversion of the second argument of issubdtype from `float` to `np.floating` is deprecated. In future, it will be treated as `np.float64 == np.dtype(float).type`.\n",
            "  elif np.issubdtype(np.asarray(v).dtype, float):\n"
          ],
          "name": "stderr"
        }
      ]
    },
    {
      "metadata": {
        "id": "pNRjAKMQNAAQ",
        "colab_type": "code",
        "colab": {
          "base_uri": "https://localhost:8080/",
          "height": 612
        },
        "outputId": "9210eafd-ac68-4b12-9e6a-e6355e6a3344"
      },
      "cell_type": "code",
      "source": [
        "#@title\n",
        "rcParams['figure.figsize'] = 10,10\n",
        "fit.plot()\n",
        "rcParams['figure.figsize'] = 4,3\n",
        "samples = fit.extract()\n",
        "\n",
        "mytheta = torch.empty(len(samples['theta']), 4)\n",
        "mytheta[:, 0:2] = torch.from_numpy(samples['theta'])\n",
        "mytheta[:, 2]   = torch.from_numpy(samples['intercept'])\n",
        "mytheta[:, 3]   = torch.from_numpy(samples['sigma'])"
      ],
      "execution_count": 147,
      "outputs": [
        {
          "output_type": "display_data",
          "data": {
            "text/plain": [
              "<Figure size 720x720 with 6 Axes>"
            ],
            "image/png": "[encoded data removed]"
          },
          "metadata": {
            "tags": []
          }
        }
      ]
    },
    {
      "metadata": {
        "id": "QA6XBvrtj8Tg",
        "colab_type": "text"
      },
      "cell_type": "markdown",
      "source": [
        "## Hamiltonian Monte Carlo Method"
      ]
    },
    {
      "metadata": {
        "id": "grQzvSHdx5Hr",
        "colab_type": "code",
        "colab": {}
      },
      "cell_type": "code",
      "source": [
        "def HMC():\n",
        "    global theta\n",
        "    global Xs\n",
        "    x = 0.0\n",
        "    \n",
        "    Xs = []\n",
        "    \n",
        "    epsilon = 1e0 / N\n",
        "    # theta = torch.zeros(4, 1, requires_grad=False)\n",
        "    p = torch.randn(4, 1, requires_grad=False)\n",
        "    if isCuda:\n",
        "        p = p.cuda()\n",
        "        theta = theta.cuda()\n",
        "    \n",
        "    mul = 1\n",
        "    for t in tqdm.tqdm(range(50000)):   \n",
        "        if isCuda:\n",
        "            p = torch.randn(4,1, device=torch.device(0))\n",
        "        else:\n",
        "            p = torch.randn(4,1)\n",
        "        \n",
        "        p = mul *p;\n",
        "        H_old = computeH(theta.data, p.data, data)\n",
        "        theta_old = theta.clone()\n",
        "        \n",
        "        # leapfrog integration\n",
        "        p = p.data - epsilon /2 * gradientOfU(theta, data).data     \n",
        "        #print(\"p\", p)\n",
        "        nstep = 5\n",
        "        for k in range(nstep):\n",
        "            theta = theta.data + epsilon * mul * gradientOfK(p).data\n",
        "            if k != nstep:\n",
        "                p = p.data - epsilon * gradientOfU(theta, data).data\n",
        "            #print(\"p\", p)\n",
        "        p = p.data - epsilon / 2 * gradientOfU(theta, data).data\n",
        "        \n",
        "        \n",
        "        # to guarantee that the proposal distribution is symmetric \n",
        "        p.data = -p.data    \n",
        "        \n",
        "        H_new = computeH(theta.data, p.data, data)\n",
        "        #  print(H_new.item(), H_old.item())\n",
        "        pr = 1\n",
        "        if H_new - H_old < 0:\n",
        "            pr = min([1, math.exp(H_new - H_old)])\n",
        "            \n",
        "        #print(pr)\n",
        "        if torch.rand(1).item() > pr:\n",
        "            theta = theta_old.data\n",
        "            \n",
        "        theta = theta.data\n",
        "        Xs.append(theta.cpu().data.numpy())\n",
        "        #print(Xs[-1][3,0])\n",
        "    \n",
        "    return Xs"
      ],
      "execution_count": 0,
      "outputs": []
    },
    {
      "metadata": {
        "id": "_cQvGgEh30x4",
        "colab_type": "code",
        "colab": {
          "base_uri": "https://localhost:8080/",
          "height": 34
        },
        "outputId": "0ed5fbda-b0f8-4993-e15d-c3fb73cbc3fb"
      },
      "cell_type": "code",
      "source": [
        "Xs = HMC()"
      ],
      "execution_count": 11,
      "outputs": [
        {
          "output_type": "stream",
          "text": [
            "100%|██████████| 50000/50000 [03:44<00:00, 223.12it/s]\n"
          ],
          "name": "stderr"
        }
      ]
    },
    {
      "metadata": {
        "id": "Nh1nVfqxAAW1",
        "colab_type": "code",
        "colab": {
          "base_uri": "https://localhost:8080/",
          "height": 953
        },
        "outputId": "0971c4e2-0165-4696-9726-7dbc25b1aeb6"
      },
      "cell_type": "code",
      "source": [
        "#@title\n",
        "name = [\"a\", \"b\", \"intercept\", \"sigma\"]\n",
        "for i in range(4):\n",
        "    myt = [ s[i,0] for s in Xs[1000:]]\n",
        "    \n",
        "    import seaborn as sns\n",
        "    if i == 3:\n",
        "        myt = [math.exp(t) for t in myt]\n",
        "    _ = sns.distplot(myt)\n",
        "        \n",
        "    _ = sns.distplot(mytheta[:, i].cpu().numpy(), hist=False)\n",
        "    plt.ylabel(name[i])\n",
        "    plt.show()\n"
      ],
      "execution_count": 12,
      "outputs": [
        {
          "output_type": "stream",
          "text": [
            "/Users/xcode/anaconda3/lib/python3.6/site-packages/matplotlib/axes/_axes.py:6462: UserWarning: The 'normed' kwarg is deprecated, and has been replaced by the 'density' kwarg.\n",
            "  warnings.warn(\"The 'normed' kwarg is deprecated, and has been \"\n"
          ],
          "name": "stderr"
        },
        {
          "output_type": "display_data",
          "data": {
            "text/plain": [
              "<Figure size 288x216 with 1 Axes>"
            ],
            "image/png": "[encoded data removed]"
          },
          "metadata": {
            "tags": []
          }
        },
        {
          "output_type": "stream",
          "text": [
            "/Users/xcode/anaconda3/lib/python3.6/site-packages/matplotlib/axes/_axes.py:6462: UserWarning: The 'normed' kwarg is deprecated, and has been replaced by the 'density' kwarg.\n",
            "  warnings.warn(\"The 'normed' kwarg is deprecated, and has been \"\n"
          ],
          "name": "stderr"
        },
        {
          "output_type": "display_data",
          "data": {
            "text/plain": [
              "<Figure size 288x216 with 1 Axes>"
            ],
            "image/png": "[encoded data removed]"
          },
          "metadata": {
            "tags": []
          }
        },
        {
          "output_type": "stream",
          "text": [
            "/Users/xcode/anaconda3/lib/python3.6/site-packages/matplotlib/axes/_axes.py:6462: UserWarning: The 'normed' kwarg is deprecated, and has been replaced by the 'density' kwarg.\n",
            "  warnings.warn(\"The 'normed' kwarg is deprecated, and has been \"\n"
          ],
          "name": "stderr"
        },
        {
          "output_type": "display_data",
          "data": {
            "text/plain": [
              "<Figure size 288x216 with 1 Axes>"
            ],
            "image/png": "[encoded data removed]"
          },
          "metadata": {
            "tags": []
          }
        },
        {
          "output_type": "stream",
          "text": [
            "/Users/xcode/anaconda3/lib/python3.6/site-packages/matplotlib/axes/_axes.py:6462: UserWarning: The 'normed' kwarg is deprecated, and has been replaced by the 'density' kwarg.\n",
            "  warnings.warn(\"The 'normed' kwarg is deprecated, and has been \"\n"
          ],
          "name": "stderr"
        },
        {
          "output_type": "display_data",
          "data": {
            "text/plain": [
              "<Figure size 288x216 with 1 Axes>"
            ],
            "image/png": "[encoded data removed]"
          },
          "metadata": {
            "tags": []
          }
        }
      ]
    },
    {
      "metadata": {
        "id": "Xlke-fvC9BJf",
        "colab_type": "text"
      },
      "cell_type": "markdown",
      "source": [
        "## Variational Inference\n",
        "\n",
        "\n",
        "Instead of drawing random samples from the posterior distribution $ P(z \\mid x)$, we could approximate the posterior distribution by a simpler distribution, e.g. Normal distributions. We here approximate the posterior distribution by a family of distributions whose coordinates  are independent Gaussian distributions $$ Q(z_i) = \\mathcal N(\\bar z_i, \\sigma_i^2)$$\n",
        "So $$Q(z) = \\prod_{i=1}^d Q(z_i)$$\n",
        "\n",
        "\n",
        "The objective is to choose $\\hat z_i, \\sigma_i$ such that the distance between $Q(z)$ and $P(z \\mid x)$ is minimized. Here, we use the Kullback–Leibler divergence (KLD) to measure the distance.\n",
        "$$\n",
        "\\begin{align}\n",
        "D_{KL}  \\left(Q(z) \\| P(z | x) \\right)  &= E_{Q}  \\left( \\log(Q(z)) - \\log(P(z \\mid x))  \\right)\\\\\n",
        "&=  E_{Q}  \\left( \\log(Q(z)) - \\log(P(x \\mid z)) - \\log(P(z) + \\log(P(x))  \\right) \\\\\n",
        "&\\geq E_Q \\left( \\log(Q(z)) - \\log(P(x \\mid z)) - \\log(P(z)  \\right)\n",
        "\\end{align}\n",
        "$$\n",
        "\n",
        "\n",
        "We here use reparametriczation trick to represent the distribution $Q(z_i)$ as follows:\n",
        "$$\n",
        "\\begin{align}\n",
        "Q(z_i) &= r_i \\cdot \\sigma_i + \\bar z_i \\\\\n",
        "r_i &\\sim \\mathcal N(0, 1)\n",
        "\\end{align}\n",
        "$$\n",
        "\n",
        "By doing that, we seperate the stochastis noise $r_i$ from parameters $r_i$ and $\\bar z_i$. This allows us to compute the gradient of KLD with respect to these parameters.\n",
        "\n",
        "We first draw multiple random samples of $r_i$ and use these samples to estimate the expectation of the gradient.\n"
      ]
    },
    {
      "metadata": {
        "id": "OvOvrfUTKguO",
        "colab_type": "code",
        "colab": {}
      },
      "cell_type": "code",
      "source": [
        "#@title\n",
        "\n",
        "import torch \n",
        "def log_pdf_VI(theta, tau, sigma):\n",
        "     #return torch.sum(- torch.pow((theta - tau) / sigma, 2) * 0.5 - torch.log(sigma))\n",
        "     return torch.sum(- torch.log(sigma))\n",
        "\n",
        "def generate_noise(n):\n",
        "    return torch.randn(n, 4)\n",
        "\n",
        "\n",
        "noise = generate_noise(10)\n",
        "tau = torch.zeros(4, 1, requires_grad=True)\n",
        "logsigma = torch.zeros(4, 1, requires_grad=True)\n",
        "##noise * sigma.expand_as(noise) + tau.expand_as(noise)\n",
        "\n",
        "if isCuda:\n",
        "    tau = tau.cuda().data\n",
        "    logsigma = logsigma.cuda().data\n",
        "    tau.requires_grad=True\n",
        "    logsigma.requires_grad=True"
      ],
      "execution_count": 0,
      "outputs": []
    },
    {
      "metadata": {
        "id": "vHrg6MolIsO7",
        "colab_type": "code",
        "colab": {}
      },
      "cell_type": "code",
      "source": [
        "#@title\n",
        "X = data[:, 0:2]\n",
        "Y = data[:, 2:3]\n",
        "\n",
        "#Auto-Encoding Variational Inference\n",
        "def AEVI():\n",
        "    ###theta = torch.zeros(4, 1, requires_grad=False)\n",
        "    global tau, logsigma\n",
        "    #tau = torch.randn(4, 1, requires_grad=True)\n",
        "    #sigma = torch.ones(4, 1, requires_grad=True)\n",
        "    optimizer = torch.optim.Adam([ tau, logsigma ], lr=1e-3)\n",
        "    \n",
        "    n = 1\n",
        "    NN = 100000\n",
        "    for it in tqdm.tqdm(range(NN)):\n",
        "        if it == NN * 8 // 10:\n",
        "            optimizer = torch.optim.Adam([ tau, logsigma ], lr=1e-4)\n",
        "        loss = torch.zeros(1)\n",
        "        if isCuda:\n",
        "            loss = loss.cuda()\n",
        "        mysigma = torch.exp(logsigma)\n",
        "        ###sigma.data = torch.max(sigma, 1e-8*torch.ones_like(sigma))\n",
        "        ##if isCuda:\n",
        "        ##    sigma = sigma.cuda()\n",
        "            \n",
        "        for i in range(n):\n",
        "            noise = torch.randn(4,1).data\n",
        "            if isCuda:\n",
        "                noise = noise.cuda()\n",
        "            theta = noise * mysigma + tau\n",
        "            loss = loss + 1.0 / n *  ( log_pdf_VI(theta, tau, mysigma) - log_posterior(theta, data))\n",
        "        loss = loss / N\n",
        "        optimizer.zero_grad()\n",
        "        loss.backward()\n",
        "        optimizer.step()\n",
        "        #if it % 1000 == 0:\n",
        "        #    print(loss.item())\n",
        "    print(N*loss.item())\n",
        "    return tau, logsigma"
      ],
      "execution_count": 0,
      "outputs": []
    },
    {
      "metadata": {
        "id": "qIIAcyRxUUT3",
        "colab_type": "code",
        "colab": {
          "base_uri": "https://localhost:8080/",
          "height": 51
        },
        "outputId": "47dcec47-6f98-4185-9820-7984fdc7e152"
      },
      "cell_type": "code",
      "source": [
        "tau, logsigma = AEVI()"
      ],
      "execution_count": 110,
      "outputs": [
        {
          "output_type": "stream",
          "text": [
            "100%|██████████| 100000/100000 [00:53<00:00, 1866.25it/s]"
          ],
          "name": "stderr"
        },
        {
          "output_type": "stream",
          "text": [
            "-159.7007155418396\n"
          ],
          "name": "stdout"
        },
        {
          "output_type": "stream",
          "text": [
            "\n"
          ],
          "name": "stderr"
        }
      ]
    },
    {
      "metadata": {
        "id": "xCt9JLla5DK9",
        "colab_type": "code",
        "colab": {
          "base_uri": "https://localhost:8080/",
          "height": 136
        },
        "outputId": "d01d2b5d-be6a-47d9-f38b-6bb97418a8e1"
      },
      "cell_type": "code",
      "source": [
        "tau, logsigma"
      ],
      "execution_count": 111,
      "outputs": [
        {
          "output_type": "execute_result",
          "data": {
            "text/plain": [
              "(tensor([[ 2.0521],\n",
              "         [-3.5456],\n",
              "         [-5.0105],\n",
              "         [-2.3709]]), tensor([[-3.4465],\n",
              "         [-3.4287],\n",
              "         [-4.6759],\n",
              "         [-2.6510]]))"
            ]
          },
          "metadata": {
            "tags": []
          },
          "execution_count": 111
        }
      ]
    },
    {
      "metadata": {
        "id": "xzvrFORxwxEC",
        "colab_type": "code",
        "colab": {
          "base_uri": "https://localhost:8080/",
          "height": 819
        },
        "outputId": "923473b7-7604-43d6-87af-5b744ac6b8f8"
      },
      "cell_type": "code",
      "source": [
        "#@title\n",
        "import seaborn as sns\n",
        "name = [\"a\", \"b\", \"intercept\", \"sigma\"]\n",
        "\n",
        "\n",
        "sigma = torch.exp(logsigma.data)\n",
        "for id in range(4):\n",
        "    ##myt = [ s[id,0] for s in Xs[0:]]\n",
        "\n",
        "\n",
        "\n",
        "    ### myt = [ s[id,0] for s in Xs[0:]]\n",
        "\n",
        "\n",
        "\n",
        "\n",
        "    xx = torch.linspace(float(min(mytheta[:, id].numpy())), float(max(mytheta[:, id].numpy())), 100)\n",
        "    if id == 3:\n",
        "        xx = torch.linspace(math.log(float(min(mytheta[:, id].numpy()))), math.log(float(max(mytheta[:, id].numpy()))), 100)\n",
        "        \n",
        "    yy =  torch.exp( - 0.5 * torch.pow ( (xx - tau.cpu()[id,0])\\\n",
        "           / sigma.cpu()[id,0], 2)) / math.sqrt( 2. * math.pi ) \\\n",
        "    / sigma.cpu()[id,0]\n",
        "\n",
        "    \n",
        "    if id == 3:\n",
        "        ###myt = [math.exp(t) for t in myt]\n",
        "        xx = torch.exp(xx)\n",
        "        yy = yy / xx\n",
        "        \n",
        "    _ = sns.distplot(mytheta[:, id].numpy(), hist=False)\n",
        "\n",
        "   # _ = plt.legend(['Variational Inference'])        \n",
        "        \n",
        "    _ = plt.plot(xx.cpu().data.numpy(), yy.cpu().data.numpy(), \"b-\")\n",
        "\n",
        "    #_ = plt.legend(['Variational Inference', 'Hamiltonian Monte Carlo'])\n",
        "    plt.ylabel(name[id])\n",
        "    plt.show()\n"
      ],
      "execution_count": 112,
      "outputs": [
        {
          "output_type": "display_data",
          "data": {
            "text/plain": [
              "<Figure size 288x216 with 1 Axes>"
            ],
            "image/png": "[encoded data removed]"
          },
          "metadata": {
            "tags": []
          }
        },
        {
          "output_type": "display_data",
          "data": {
            "text/plain": [
              "<Figure size 288x216 with 1 Axes>"
            ],
            "image/png": "[encoded data removed]"
          },
          "metadata": {
            "tags": []
          }
        },
        {
          "output_type": "display_data",
          "data": {
            "text/plain": [
              "<Figure size 288x216 with 1 Axes>"
            ],
            "image/png": "[encoded data removed]"
          },
          "metadata": {
            "tags": []
          }
        },
        {
          "output_type": "display_data",
          "data": {
            "text/plain": [
              "<Figure size 288x216 with 1 Axes>"
            ],
            "image/png": "[encoded data removed]"
          },
          "metadata": {
            "tags": []
          }
        }
      ]
    },
    {
      "metadata": {
        "id": "wc54NsPEOaLt",
        "colab_type": "code",
        "colab": {}
      },
      "cell_type": "code",
      "source": [
        "logsigma_bak = logsigma.clone()\n",
        "tau_bak = tau.clone()\n",
        "logsigma = logsigma.data\n",
        "tau = tau.data"
      ],
      "execution_count": 0,
      "outputs": []
    },
    {
      "metadata": {
        "id": "laVJ_WXK3Xet",
        "colab_type": "code",
        "colab": {
          "base_uri": "https://localhost:8080/",
          "height": 85
        },
        "outputId": "50145082-3371-44e0-9cdb-1a864b592dba"
      },
      "cell_type": "code",
      "source": [
        "tau"
      ],
      "execution_count": 83,
      "outputs": [
        {
          "output_type": "execute_result",
          "data": {
            "text/plain": [
              "tensor([[ 2.0532],\n",
              "        [-3.5447],\n",
              "        [-5.0103],\n",
              "        [-2.3701]])"
            ]
          },
          "metadata": {
            "tags": []
          },
          "execution_count": 83
        }
      ]
    },
    {
      "metadata": {
        "id": "RUIT2qppT45D",
        "colab_type": "code",
        "colab": {
          "base_uri": "https://localhost:8080/",
          "height": 85
        },
        "outputId": "b033fa0d-e6e0-4e90-c5c3-807d6c88d4c6"
      },
      "cell_type": "code",
      "source": [
        "logsigma"
      ],
      "execution_count": 84,
      "outputs": [
        {
          "output_type": "execute_result",
          "data": {
            "text/plain": [
              "tensor([[-3.4309],\n",
              "        [-3.4306],\n",
              "        [-4.6634],\n",
              "        [-2.6483]])"
            ]
          },
          "metadata": {
            "tags": []
          },
          "execution_count": 84
        }
      ]
    },
    {
      "metadata": {
        "id": "bM00khzh9nrY",
        "colab_type": "code",
        "colab": {}
      },
      "cell_type": "code",
      "source": [
        "### noise = generate_noise(10)\n",
        "tau = tau_bak.data # torch.zeros(4, 1, requires_grad=True)\n",
        "#sigma = sigma_bak.data # torch.ones(4, 1, requires_grad=True)\n",
        "logsigma =  logsigma_bak.data # torch.log(sigma_bak.data)\n",
        "##noise * sigma.expand_as(noise) + tau.expand_as(noise)\n",
        "\n",
        "if isCuda:\n",
        "    tau = tau.cuda().data\n",
        "    logsigma = logsigma.cuda().data\n",
        "    tau.requires_grad=True\n",
        "    logsigma.requires_grad=True"
      ],
      "execution_count": 0,
      "outputs": []
    },
    {
      "metadata": {
        "id": "Mj7sotZC3YeZ",
        "colab_type": "code",
        "colab": {}
      },
      "cell_type": "code",
      "source": [
        "#Auto-Encoding Variational Inference - Stochastic Gradient Langevin Dynamics\n",
        "def AEVI_SGLD():\n",
        "    global tau, logsigma\n",
        "    #tau = torch.zeros(4, 1, requires_grad=True)\n",
        "    #sigma = torch.ones(4, 1, requires_grad=True)\n",
        "\n",
        "    if isCuda:\n",
        "        tau = tau.cuda().data\n",
        "        logsigma = logsigma.cuda().data\n",
        "        tau.requires_grad=True\n",
        "        logsigma.requires_grad=True\n",
        "    \n",
        "    et = 1e-5\n",
        "    \n",
        "    samples = []\n",
        "    \n",
        "    n = 1\n",
        "    var_tau = torch.zeros_like(tau)\n",
        "    var_sigma = torch.zeros_like(logsigma)\n",
        "    s_tau = torch.ones_like(tau)\n",
        "    s_sigma = et*torch.ones_like(logsigma)\n",
        "    s2_tau = et*math.sqrt(2.0*et)*torch.ones_like(tau)\n",
        "    s2_sigma = math.sqrt(2.0*et)*torch.ones_like(logsigma)\n",
        "    NN = 500000\n",
        "    lim = NN // 4\n",
        "    for it in tqdm.tqdm(range(NN)):\n",
        "        logsigma.requires_grad = True\n",
        "        tau.requires_grad = True\n",
        "        loss = torch.zeros(1)\n",
        "        if isCuda:\n",
        "            loss = loss.cuda()\n",
        "            \n",
        "        for i in range(n):\n",
        "            noise = torch.randn(4,1, requires_grad=False)\n",
        "            if isCuda:\n",
        "                noise = noise.cuda()\n",
        "                \n",
        "            mysigma = torch.exp(logsigma)\n",
        "            qtheta = noise * mysigma + tau\n",
        "            loss = loss + 1.0 / n *  ( log_pdf_VI(qtheta, tau, mysigma) - log_posterior(qtheta, data))\n",
        "        loss = loss \n",
        "        \n",
        "        \n",
        "        loss.backward()\n",
        "        \n",
        "        #if it % 100 == 0:\n",
        "        #    print(logsigma.grad.data, tau.grad.data)\n",
        "\n",
        "        if it < lim:\n",
        "            var_tau = var_tau +  torch.pow(tau.grad.data, 2)\n",
        "            var_sigma = var_sigma + torch.pow(logsigma.grad.data, 2)\n",
        "            tau_noise = torch.randn_like(tau) * math.sqrt(2*et) \n",
        "            sigma_noise = torch.randn_like(logsigma) * math.sqrt(2*et) \n",
        "\n",
        "            tau = tau.data - et * tau.grad.data + tau_noise\n",
        "            logsigma = logsigma.data - et * logsigma.grad.data + sigma_noise \n",
        "            \n",
        "        elif it == lim:\n",
        "            et = 2e-2\n",
        "            s_tau = et / torch.sqrt(var_tau/lim)\n",
        "            s_sigma = et / torch.sqrt(var_sigma/lim)\n",
        "            s2_tau = torch.sqrt(2*s_tau.data)\n",
        "            s2_sigma = torch.sqrt(2*s_sigma.data)\n",
        "        else:\n",
        "            tau_noise = torch.randn_like(tau) * s2_tau\n",
        "            sigma_noise = torch.randn_like(logsigma) * s2_sigma\n",
        "\n",
        "            tau = tau.data - s_tau * tau.grad.data + tau_noise\n",
        "            logsigma = logsigma.data - s_sigma * logsigma.grad.data + sigma_noise \n",
        "\n",
        "            samples.append(  ( tau.data.numpy(), logsigma.data.numpy() ) )\n",
        "        #if it % 1000 == 0:\n",
        "        #    print(loss.item())\n",
        "    return samples"
      ],
      "execution_count": 0,
      "outputs": []
    },
    {
      "metadata": {
        "id": "BhrkF4ozHeVj",
        "colab_type": "code",
        "colab": {
          "base_uri": "https://localhost:8080/",
          "height": 34
        },
        "outputId": "3c7f7840-3b96-4b72-e938-31a7639c2611"
      },
      "cell_type": "code",
      "source": [
        "samples = AEVI_SGLD()"
      ],
      "execution_count": 87,
      "outputs": [
        {
          "output_type": "stream",
          "text": [
            "100%|██████████| 500000/500000 [04:30<00:00, 1850.76it/s]\n"
          ],
          "name": "stderr"
        }
      ]
    },
    {
      "metadata": {
        "id": "lPxWLzncAYoA",
        "colab_type": "code",
        "colab": {
          "base_uri": "https://localhost:8080/",
          "height": 870
        },
        "outputId": "2018bb90-9ab7-4fcb-d861-2942d6f04853"
      },
      "cell_type": "code",
      "source": [
        "rcParams['figure.figsize'] = 10,10\n",
        "\n",
        "for id in range(4):\n",
        "    for yy in range(2):\n",
        "        plt.subplot(4,2,id*2 + yy+1)\n",
        "        ss = [ sample[yy][id] for sample in samples if not math.isnan(sample[yy][id])]\n",
        "        sns.distplot(ss)"
      ],
      "execution_count": 88,
      "outputs": [
        {
          "output_type": "stream",
          "text": [
            "/Users/xcode/anaconda3/lib/python3.6/site-packages/matplotlib/axes/_axes.py:6462: UserWarning: The 'normed' kwarg is deprecated, and has been replaced by the 'density' kwarg.\n",
            "  warnings.warn(\"The 'normed' kwarg is deprecated, and has been \"\n",
            "/Users/xcode/anaconda3/lib/python3.6/site-packages/matplotlib/axes/_axes.py:6462: UserWarning: The 'normed' kwarg is deprecated, and has been replaced by the 'density' kwarg.\n",
            "  warnings.warn(\"The 'normed' kwarg is deprecated, and has been \"\n",
            "/Users/xcode/anaconda3/lib/python3.6/site-packages/matplotlib/axes/_axes.py:6462: UserWarning: The 'normed' kwarg is deprecated, and has been replaced by the 'density' kwarg.\n",
            "  warnings.warn(\"The 'normed' kwarg is deprecated, and has been \"\n",
            "/Users/xcode/anaconda3/lib/python3.6/site-packages/matplotlib/axes/_axes.py:6462: UserWarning: The 'normed' kwarg is deprecated, and has been replaced by the 'density' kwarg.\n",
            "  warnings.warn(\"The 'normed' kwarg is deprecated, and has been \"\n",
            "/Users/xcode/anaconda3/lib/python3.6/site-packages/matplotlib/axes/_axes.py:6462: UserWarning: The 'normed' kwarg is deprecated, and has been replaced by the 'density' kwarg.\n",
            "  warnings.warn(\"The 'normed' kwarg is deprecated, and has been \"\n",
            "/Users/xcode/anaconda3/lib/python3.6/site-packages/matplotlib/axes/_axes.py:6462: UserWarning: The 'normed' kwarg is deprecated, and has been replaced by the 'density' kwarg.\n",
            "  warnings.warn(\"The 'normed' kwarg is deprecated, and has been \"\n",
            "/Users/xcode/anaconda3/lib/python3.6/site-packages/matplotlib/axes/_axes.py:6462: UserWarning: The 'normed' kwarg is deprecated, and has been replaced by the 'density' kwarg.\n",
            "  warnings.warn(\"The 'normed' kwarg is deprecated, and has been \"\n",
            "/Users/xcode/anaconda3/lib/python3.6/site-packages/matplotlib/axes/_axes.py:6462: UserWarning: The 'normed' kwarg is deprecated, and has been replaced by the 'density' kwarg.\n",
            "  warnings.warn(\"The 'normed' kwarg is deprecated, and has been \"\n"
          ],
          "name": "stderr"
        },
        {
          "output_type": "display_data",
          "data": {
            "text/plain": [
              "<Figure size 720x720 with 8 Axes>"
            ],
            "image/png": "[encoded data removed]"
          },
          "metadata": {
            "tags": []
          }
        }
      ]
    },
    {
      "metadata": {
        "id": "5DJu0Sc76ck4",
        "colab_type": "code",
        "colab": {
          "base_uri": "https://localhost:8080/",
          "height": 34
        },
        "outputId": "d16ad549-bede-4cbd-b041-a96045bad717"
      },
      "cell_type": "code",
      "source": [
        "Y"
      ],
      "execution_count": 94,
      "outputs": [
        {
          "output_type": "execute_result",
          "data": {
            "text/plain": [
              "<tf.Tensor 'strided_slice_1:0' shape=(100, 1) dtype=float32>"
            ]
          },
          "metadata": {
            "tags": []
          },
          "execution_count": 94
        }
      ]
    },
    {
      "metadata": {
        "id": "_54nFFCGkDNw",
        "colab_type": "code",
        "colab": {}
      },
      "cell_type": "code",
      "source": [
        "import tensorflow as tf\n",
        "import math\n",
        "import numpy as np\n",
        "import tqdm\n",
        "sess = tf.Session()"
      ],
      "execution_count": 0,
      "outputs": []
    },
    {
      "metadata": {
        "id": "2qGP9Q_AlGFz",
        "colab_type": "code",
        "colab": {
          "base_uri": "https://localhost:8080/",
          "height": 102
        },
        "outputId": "ed6a407d-6ef6-4938-beb1-64df90e11a33"
      },
      "cell_type": "code",
      "source": [
        "tf.reset_default_graph()\n",
        "\n",
        "with tf.device('/cpu:0'):\n",
        "    D = tf.constant(data.numpy())\n",
        "    X = D[:, 0:2]\n",
        "    Y = D[:, 2:3]\n",
        "\n",
        "    theta = tf.Variable(tf.zeros([4, 1]))\n",
        "\n",
        "    co = theta[0:3,0]\n",
        "    coeff = theta[0:2,:]\n",
        "    intercept = theta[2,0]\n",
        "    logsigma = theta[3,0]\n",
        "    sigma = tf.exp(logsigma)\n",
        "\n",
        "    gamma = tf.constant(1.0)\n",
        "    x0 = tf.constant(0.0)\n",
        "\n",
        "    log_cauchy_sigma = tf.constant(math.log(math.pi)) + tf.log(gamma) + \\\n",
        "                            tf.log(  1.0 + tf.pow( sigma - x0, 2)/gamma)\n",
        "\n",
        "    log_cauchy_logsigma = tf.constant(math.log(2.0)) - log_cauchy_sigma + logsigma\n",
        "\n",
        "    log_prior =   tf.reduce_sum( -tf.pow(co / 10 , 2) * 0.5 - math.log(10.0) ) + \\\n",
        "                            log_cauchy_logsigma\n",
        "\n",
        "    Yhat = tf.matmul(X, coeff) + intercept \n",
        "\n",
        "    log_likelihood = tf.reduce_sum(  -tf.pow( Y - Yhat, 2) * 0.5 /tf.pow(sigma, 2) - logsigma )\n",
        "\n",
        "    log_posterior = log_likelihood + log_prior\n",
        "    loss = -log_posterior / N\n",
        "\n",
        "    ## grad_theta = tf.gradients(loss, theta)\n",
        "\n",
        "    optimizer = tf.train.GradientDescentOptimizer(0.01)\n",
        "    train = optimizer.minimize(loss, var_list=[theta])\n",
        "\n",
        "init = tf.global_variables_initializer()\n",
        "\n",
        "sess = tf.Session()\n",
        "sess.run(init)\n",
        "for i in tqdm.tqdm(range(200000)):\n",
        "    sess.run(train)\n",
        "\n",
        "tttheta = sess.run(theta)\n",
        "print(tttheta)"
      ],
      "execution_count": 91,
      "outputs": [
        {
          "output_type": "stream",
          "text": [
            "100%|██████████| 200000/200000 [00:48<00:00, 4089.39it/s]\n"
          ],
          "name": "stderr"
        },
        {
          "output_type": "stream",
          "text": [
            "[[ 2.0534227]\n",
            " [-3.5452626]\n",
            " [-5.0100403]\n",
            " [-2.390647 ]]\n"
          ],
          "name": "stdout"
        }
      ]
    },
    {
      "metadata": {
        "id": "9HoJmLHd4uzk",
        "colab_type": "code",
        "colab": {
          "base_uri": "https://localhost:8080/",
          "height": 170
        },
        "outputId": "a6aac784-11bc-4999-97e8-b42585d87e85"
      },
      "cell_type": "code",
      "source": [
        "#@title\n",
        "tf.reset_default_graph()\n",
        "\n",
        "with tf.device('/cpu:0'):\n",
        "    D = tf.constant(data.numpy())\n",
        "    X = D[:, 0:2]\n",
        "    Y = D[:, 2:3]\n",
        "    \n",
        "    vi_mean  = tf.Variable( tf.zeros([4,1]) )\n",
        "    vi_logsigma = tf.Variable( tf.zeros([4,1]))\n",
        "    vi_sigma = tf.exp(vi_logsigma)\n",
        "\n",
        "    noi = tf.random_normal( [4, 1])\n",
        "\n",
        "    sample = noi * vi_sigma + vi_mean\n",
        "\n",
        "    co = sample[0:3,:]\n",
        "    coeff = sample[0:2,:]\n",
        "    intercept = sample[2,0]\n",
        "    logsigma = sample[3,0]\n",
        "    sigma = tf.exp(logsigma)\n",
        "\n",
        "    gamma = 1.0\n",
        "    x0 = 0.0\n",
        "\n",
        "    log_cauchy_sigma = math.log(math.pi) + math.log(gamma) + tf.log(  1.0 + tf.pow( sigma - x0, 2)/gamma)\n",
        "\n",
        "    log_cauchy_logsigma = math.log(2.0) - log_cauchy_sigma + logsigma\n",
        "\n",
        "    log_prior =   -tf.reduce_sum( tf.pow(co / 10.0, 2)  * 0.5  ) +  log_cauchy_logsigma\n",
        "\n",
        "\n",
        "    Yhat =  tf.matmul(X, coeff) + intercept\n",
        "    log_likelihood = -tf.reduce_sum(  tf.pow((Y-Yhat)/sigma , 2) * 0.5 + logsigma )\n",
        "\n",
        "    log_posterior = log_likelihood + log_prior\n",
        "\n",
        "    vi_loss = -(log_posterior + tf.reduce_sum(vi_logsigma)) / N\n",
        "\n",
        "\n",
        "    optimizer = tf.train.AdamOptimizer(1e-3)\n",
        "    train = optimizer.minimize(vi_loss, var_list=[vi_mean, vi_logsigma])\n",
        "    \n",
        "    optimizer1 = tf.train.AdamOptimizer(1e-4)\n",
        "    train1 = optimizer1.minimize(vi_loss, var_list=[vi_mean, vi_logsigma])\n",
        "\n",
        "init = tf.global_variables_initializer()\n",
        "sess = tf.Session()\n",
        "sess.run(init)\n",
        "NN = 100000\n",
        "for i in tqdm.tqdm(range(NN)):\n",
        "    if i == (NN * 8) // 10:\n",
        "        train = train1\n",
        "    sess.run(train)\n",
        "\n",
        "mm, ms =  sess.run( (vi_mean, vi_logsigma) )\n",
        "print(mm)\n",
        "print(ms)\n"
      ],
      "execution_count": 205,
      "outputs": [
        {
          "output_type": "stream",
          "text": [
            "100%|██████████| 100000/100000 [00:31<00:00, 3193.67it/s]"
          ],
          "name": "stderr"
        },
        {
          "output_type": "stream",
          "text": [
            "[[ 2.025665 ]\n",
            " [-3.5531447]\n",
            " [-5.014913 ]\n",
            " [-2.29941  ]]\n",
            "[[-3.2961981]\n",
            " [-3.3755429]\n",
            " [-4.608117 ]\n",
            " [-2.6450539]]\n"
          ],
          "name": "stdout"
        },
        {
          "output_type": "stream",
          "text": [
            "\n"
          ],
          "name": "stderr"
        }
      ]
    },
    {
      "metadata": {
        "id": "Jcshx1ASnDyB",
        "colab_type": "code",
        "colab": {
          "base_uri": "https://localhost:8080/",
          "height": 817
        },
        "outputId": "c054e354-f943-4d4f-fd90-acac91405798"
      },
      "cell_type": "code",
      "source": [
        "#@title Plot hist\n",
        "import seaborn as sns\n",
        "\n",
        "rcParams['figure.figsize'] = 4,3\n",
        "\n",
        "logsigma = torch.from_numpy(ms.astype(np.float32))\n",
        "sigma = torch.exp(logsigma.data)\n",
        "\n",
        "tau =  torch.from_numpy(mm.astype(np.float32))\n",
        "for id in range(4):\n",
        "\n",
        "    xx = torch.linspace(float(min(mytheta[:, id].numpy())), float(max(mytheta[:, id].numpy())), 100)\n",
        "    if id == 3:\n",
        "        xx = torch.linspace(math.log(float(min(mytheta[:, id].numpy()))), math.log(float(max(mytheta[:, id].numpy()))), 100)\n",
        "        \n",
        "    yy =  torch.exp( - 0.5 * torch.pow ( (xx - tau.cpu()[id,0])\\\n",
        "           / sigma.cpu()[id,0], 2)) / math.sqrt( 2. * math.pi ) \\\n",
        "    / sigma.cpu()[id,0]\n",
        "\n",
        "    \n",
        "    if id == 3:\n",
        "        xx = torch.exp(xx)\n",
        "        yy = yy / xx\n",
        "        \n",
        "    _ = sns.distplot(mytheta[:, id].numpy(), hist=False)\n",
        "\n",
        "        \n",
        "    _ = plt.plot(xx.cpu().data.numpy(), yy.cpu().data.numpy(), \"b-\")\n",
        "\n",
        "    plt.ylabel(name[id])\n",
        "    plt.show()\n"
      ],
      "execution_count": 206,
      "outputs": [
        {
          "output_type": "display_data",
          "data": {
            "text/plain": [
              "<Figure size 288x216 with 1 Axes>"
            ],
            "image/png": "[encoded data removed]"
          },
          "metadata": {
            "tags": []
          }
        },
        {
          "output_type": "display_data",
          "data": {
            "text/plain": [
              "<Figure size 288x216 with 1 Axes>"
            ],
            "image/png": "[encoded data removed]"
          },
          "metadata": {
            "tags": []
          }
        },
        {
          "output_type": "display_data",
          "data": {
            "text/plain": [
              "<Figure size 288x216 with 1 Axes>"
            ],
            "image/png": "[encoded data removed]"
          },
          "metadata": {
            "tags": []
          }
        },
        {
          "output_type": "display_data",
          "data": {
            "text/plain": [
              "<Figure size 288x216 with 1 Axes>"
            ],
            "image/png": "[encoded data removed]"
          },
          "metadata": {
            "tags": []
          }
        }
      ]
    },
    {
      "metadata": {
        "id": "lsvkeW7_-5Pk",
        "colab_type": "code",
        "colab": {
          "base_uri": "https://localhost:8080/",
          "height": 1020
        },
        "outputId": "45df6aab-e6cb-4d3e-f77d-d30a572c5605"
      },
      "cell_type": "code",
      "source": [
        "#@title\n",
        "tf.reset_default_graph()\n",
        "\n",
        "\n",
        "et = 1e-5\n",
        "\n",
        "with tf.device('/cpu:0'):\n",
        "    D = tf.constant(data.numpy())\n",
        "    X = D[:, 0:2]\n",
        "    Y = D[:, 2:3]\n",
        "    \n",
        "    vi_mean  = tf.Variable( mm )\n",
        "    vi_logsigma = tf.Variable( ms )\n",
        "\n",
        "    vi_mean_var  = tf.Variable( tf.zeros([4,1]) )\n",
        "    vi_logsigma_var = tf.Variable( tf.zeros([4,1]))\n",
        "\n",
        "    vi_sigma = tf.exp(vi_logsigma)\n",
        "\n",
        "    noi = tf.random_normal( [4, 1])\n",
        "\n",
        "    sample = noi * vi_sigma + vi_mean\n",
        "\n",
        "    co = sample[0:3,:]\n",
        "    coeff = sample[0:2,:]\n",
        "    intercept = sample[2,0]\n",
        "    logsigma = sample[3,0]\n",
        "    sigma = tf.exp(logsigma)\n",
        "\n",
        "    gamma = 1.0\n",
        "    x0 = 0.0\n",
        "\n",
        "    log_cauchy_sigma = math.log(math.pi) + math.log(gamma) + tf.log(  1.0 + tf.pow( sigma - x0, 2)/gamma)\n",
        "\n",
        "    log_cauchy_logsigma = math.log(2.0) - log_cauchy_sigma + logsigma\n",
        "\n",
        "    log_prior =   -tf.reduce_sum( tf.pow(co / 10.0, 2)  * 0.5  ) +  log_cauchy_logsigma\n",
        "\n",
        "\n",
        "    Yhat =  tf.matmul(X, coeff) + intercept\n",
        "    log_likelihood = -tf.reduce_sum(  tf.pow((Y-Yhat)/sigma , 2) * 0.5 + logsigma )\n",
        "\n",
        "    log_posterior = log_likelihood + log_prior\n",
        "\n",
        "    vi_loss = -(log_posterior + tf.reduce_sum(vi_logsigma)) \n",
        "    \n",
        "    vi_mean_grad, vi_logsigma_grad = tf.gradients(vi_loss, [vi_mean, vi_logsigma] )\n",
        "    vi_mean_noise = tf.random_normal( [4, 1]) * math.sqrt(2*et)\n",
        "    vi_logsigma_noise = tf.random_normal( [4, 1]) * math.sqrt(2*et)\n",
        "    \n",
        "    vi_mean_ops = tf.assign_sub(vi_mean, vi_mean_grad * et + vi_mean_noise )\n",
        "    vi_logsigma_ops = tf.assign_sub(vi_logsigma, vi_logsigma_grad * et + vi_logsigma_noise )\n",
        "    \n",
        "    vi_mean_var_ops = tf.assign_add(vi_mean_var,  tf.pow(vi_mean_grad, 2) )\n",
        "    vi_logsigma_var_ops = tf.assign_add(vi_logsigma_var,  tf.pow(vi_logsigma_grad, 2) )\n",
        "\n",
        "init = tf.global_variables_initializer()\n",
        "sess = tf.Session()\n",
        "sess.run(init)\n",
        "NN = 100000\n",
        "for i in tqdm.tqdm(range(NN//2)):\n",
        "    _,_,ll,_,_ = sess.run( (vi_mean_var_ops, vi_logsigma_var_ops, vi_loss, vi_mean_ops, vi_logsigma_ops) )\n",
        "    if i % 1000 == 0:\n",
        "        print(ll)\n",
        "\n",
        "mmm, mms =  sess.run( (vi_mean_var, vi_logsigma_var) )\n",
        "mv = np.sqrt(mmm / (NN//2))\n",
        "mls = np.sqrt(mms / (NN//2))\n",
        "print(mv)\n",
        "print(mls)\n"
      ],
      "execution_count": 208,
      "outputs": [
        {
          "output_type": "stream",
          "text": [
            "  0%|          | 202/50000 [00:00<1:02:25, 13.30it/s]"
          ],
          "name": "stderr"
        },
        {
          "output_type": "stream",
          "text": [
            "-163.40407\n"
          ],
          "name": "stdout"
        },
        {
          "output_type": "stream",
          "text": [
            "  3%|▎         | 1384/50000 [00:00<07:31, 107.62it/s]"
          ],
          "name": "stderr"
        },
        {
          "output_type": "stream",
          "text": [
            "-159.92107\n"
          ],
          "name": "stdout"
        },
        {
          "output_type": "stream",
          "text": [
            "  5%|▍         | 2395/50000 [00:01<01:33, 506.55it/s]"
          ],
          "name": "stderr"
        },
        {
          "output_type": "stream",
          "text": [
            "-160.0607\n"
          ],
          "name": "stdout"
        },
        {
          "output_type": "stream",
          "text": [
            "  7%|▋         | 3404/50000 [00:01<00:34, 1342.94it/s]"
          ],
          "name": "stderr"
        },
        {
          "output_type": "stream",
          "text": [
            "-164.55612\n"
          ],
          "name": "stdout"
        },
        {
          "output_type": "stream",
          "text": [
            "  8%|▊         | 4228/50000 [00:02<00:25, 1829.06it/s]"
          ],
          "name": "stderr"
        },
        {
          "output_type": "stream",
          "text": [
            "-163.65343\n"
          ],
          "name": "stdout"
        },
        {
          "output_type": "stream",
          "text": [
            " 11%|█         | 5280/50000 [00:02<00:21, 2039.37it/s]"
          ],
          "name": "stderr"
        },
        {
          "output_type": "stream",
          "text": [
            "-162.68114\n"
          ],
          "name": "stdout"
        },
        {
          "output_type": "stream",
          "text": [
            " 13%|█▎        | 6293/50000 [00:03<00:22, 1938.57it/s]"
          ],
          "name": "stderr"
        },
        {
          "output_type": "stream",
          "text": [
            "-164.37233\n"
          ],
          "name": "stdout"
        },
        {
          "output_type": "stream",
          "text": [
            " 15%|█▍        | 7288/50000 [00:03<00:21, 1988.64it/s]"
          ],
          "name": "stderr"
        },
        {
          "output_type": "stream",
          "text": [
            "-163.65094\n"
          ],
          "name": "stdout"
        },
        {
          "output_type": "stream",
          "text": [
            " 17%|█▋        | 8305/50000 [00:04<00:20, 2010.63it/s]"
          ],
          "name": "stderr"
        },
        {
          "output_type": "stream",
          "text": [
            "-163.3702\n"
          ],
          "name": "stdout"
        },
        {
          "output_type": "stream",
          "text": [
            " 19%|█▊        | 9287/50000 [00:04<00:21, 1934.21it/s]"
          ],
          "name": "stderr"
        },
        {
          "output_type": "stream",
          "text": [
            "-160.97249\n"
          ],
          "name": "stdout"
        },
        {
          "output_type": "stream",
          "text": [
            " 20%|██        | 10245/50000 [00:05<00:21, 1889.95it/s]"
          ],
          "name": "stderr"
        },
        {
          "output_type": "stream",
          "text": [
            "-160.4889\n"
          ],
          "name": "stdout"
        },
        {
          "output_type": "stream",
          "text": [
            " 22%|██▏       | 11232/50000 [00:05<00:20, 1874.47it/s]"
          ],
          "name": "stderr"
        },
        {
          "output_type": "stream",
          "text": [
            "-158.82\n"
          ],
          "name": "stdout"
        },
        {
          "output_type": "stream",
          "text": [
            " 24%|██▍       | 12236/50000 [00:06<00:18, 1991.28it/s]"
          ],
          "name": "stderr"
        },
        {
          "output_type": "stream",
          "text": [
            "-161.82396\n"
          ],
          "name": "stdout"
        },
        {
          "output_type": "stream",
          "text": [
            " 26%|██▋       | 13249/50000 [00:06<00:18, 2010.79it/s]"
          ],
          "name": "stderr"
        },
        {
          "output_type": "stream",
          "text": [
            "-161.42937\n"
          ],
          "name": "stdout"
        },
        {
          "output_type": "stream",
          "text": [
            " 29%|██▊       | 14264/50000 [00:07<00:17, 1998.89it/s]"
          ],
          "name": "stderr"
        },
        {
          "output_type": "stream",
          "text": [
            "-161.98453\n"
          ],
          "name": "stdout"
        },
        {
          "output_type": "stream",
          "text": [
            " 31%|███       | 15287/50000 [00:07<00:17, 2026.91it/s]"
          ],
          "name": "stderr"
        },
        {
          "output_type": "stream",
          "text": [
            "-164.13277\n"
          ],
          "name": "stdout"
        },
        {
          "output_type": "stream",
          "text": [
            " 33%|███▎      | 16310/50000 [00:08<00:16, 2004.51it/s]"
          ],
          "name": "stderr"
        },
        {
          "output_type": "stream",
          "text": [
            "-158.40672\n"
          ],
          "name": "stdout"
        },
        {
          "output_type": "stream",
          "text": [
            " 35%|███▍      | 17322/50000 [00:08<00:16, 1995.27it/s]"
          ],
          "name": "stderr"
        },
        {
          "output_type": "stream",
          "text": [
            "-163.74992\n"
          ],
          "name": "stdout"
        },
        {
          "output_type": "stream",
          "text": [
            " 37%|███▋      | 18338/50000 [00:09<00:15, 1996.77it/s]"
          ],
          "name": "stderr"
        },
        {
          "output_type": "stream",
          "text": [
            "-163.27512\n"
          ],
          "name": "stdout"
        },
        {
          "output_type": "stream",
          "text": [
            " 39%|███▊      | 19359/50000 [00:09<00:15, 2006.74it/s]"
          ],
          "name": "stderr"
        },
        {
          "output_type": "stream",
          "text": [
            "-160.53003\n"
          ],
          "name": "stdout"
        },
        {
          "output_type": "stream",
          "text": [
            " 41%|████      | 20387/50000 [00:10<00:14, 2027.55it/s]"
          ],
          "name": "stderr"
        },
        {
          "output_type": "stream",
          "text": [
            "-157.56638\n"
          ],
          "name": "stdout"
        },
        {
          "output_type": "stream",
          "text": [
            " 42%|████▏     | 21205/50000 [00:10<00:14, 2033.59it/s]"
          ],
          "name": "stderr"
        },
        {
          "output_type": "stream",
          "text": [
            "-163.68663\n"
          ],
          "name": "stdout"
        },
        {
          "output_type": "stream",
          "text": [
            " 44%|████▍     | 22228/50000 [00:11<00:13, 2017.94it/s]"
          ],
          "name": "stderr"
        },
        {
          "output_type": "stream",
          "text": [
            "-162.11166\n"
          ],
          "name": "stdout"
        },
        {
          "output_type": "stream",
          "text": [
            " 46%|████▋     | 23241/50000 [00:11<00:13, 2011.37it/s]"
          ],
          "name": "stderr"
        },
        {
          "output_type": "stream",
          "text": [
            "-158.69327\n"
          ],
          "name": "stdout"
        },
        {
          "output_type": "stream",
          "text": [
            " 49%|████▊     | 24259/50000 [00:12<00:12, 2003.84it/s]"
          ],
          "name": "stderr"
        },
        {
          "output_type": "stream",
          "text": [
            "-155.47249\n"
          ],
          "name": "stdout"
        },
        {
          "output_type": "stream",
          "text": [
            " 51%|█████     | 25276/50000 [00:12<00:12, 2015.67it/s]"
          ],
          "name": "stderr"
        },
        {
          "output_type": "stream",
          "text": [
            "-157.51979\n"
          ],
          "name": "stdout"
        },
        {
          "output_type": "stream",
          "text": [
            " 53%|█████▎    | 26277/50000 [00:13<00:12, 1929.91it/s]"
          ],
          "name": "stderr"
        },
        {
          "output_type": "stream",
          "text": [
            "-161.70906\n"
          ],
          "name": "stdout"
        },
        {
          "output_type": "stream",
          "text": [
            " 55%|█████▍    | 27287/50000 [00:13<00:11, 1999.91it/s]"
          ],
          "name": "stderr"
        },
        {
          "output_type": "stream",
          "text": [
            "-160.97992\n"
          ],
          "name": "stdout"
        },
        {
          "output_type": "stream",
          "text": [
            " 57%|█████▋    | 28301/50000 [00:14<00:10, 2011.51it/s]"
          ],
          "name": "stderr"
        },
        {
          "output_type": "stream",
          "text": [
            "-161.08417\n"
          ],
          "name": "stdout"
        },
        {
          "output_type": "stream",
          "text": [
            " 59%|█████▊    | 29329/50000 [00:14<00:10, 2046.56it/s]"
          ],
          "name": "stderr"
        },
        {
          "output_type": "stream",
          "text": [
            "-163.82921\n"
          ],
          "name": "stdout"
        },
        {
          "output_type": "stream",
          "text": [
            " 61%|██████    | 30355/50000 [00:15<00:09, 1999.84it/s]"
          ],
          "name": "stderr"
        },
        {
          "output_type": "stream",
          "text": [
            "-157.29948\n"
          ],
          "name": "stdout"
        },
        {
          "output_type": "stream",
          "text": [
            " 63%|██████▎   | 31372/50000 [00:15<00:09, 2019.66it/s]"
          ],
          "name": "stderr"
        },
        {
          "output_type": "stream",
          "text": [
            "-161.91022\n"
          ],
          "name": "stdout"
        },
        {
          "output_type": "stream",
          "text": [
            " 65%|██████▍   | 32389/50000 [00:16<00:08, 2010.64it/s]"
          ],
          "name": "stderr"
        },
        {
          "output_type": "stream",
          "text": [
            "-162.26706\n"
          ],
          "name": "stdout"
        },
        {
          "output_type": "stream",
          "text": [
            " 67%|██████▋   | 33398/50000 [00:16<00:08, 1989.38it/s]"
          ],
          "name": "stderr"
        },
        {
          "output_type": "stream",
          "text": [
            "-162.0294\n"
          ],
          "name": "stdout"
        },
        {
          "output_type": "stream",
          "text": [
            " 68%|██████▊   | 34196/50000 [00:17<00:08, 1891.20it/s]"
          ],
          "name": "stderr"
        },
        {
          "output_type": "stream",
          "text": [
            "-161.83978\n"
          ],
          "name": "stdout"
        },
        {
          "output_type": "stream",
          "text": [
            " 71%|███████   | 35407/50000 [00:17<00:07, 2015.14it/s]"
          ],
          "name": "stderr"
        },
        {
          "output_type": "stream",
          "text": [
            "-159.76839\n"
          ],
          "name": "stdout"
        },
        {
          "output_type": "stream",
          "text": [
            " 72%|███████▏  | 36214/50000 [00:18<00:06, 1993.99it/s]"
          ],
          "name": "stderr"
        },
        {
          "output_type": "stream",
          "text": [
            "-160.55017\n"
          ],
          "name": "stdout"
        },
        {
          "output_type": "stream",
          "text": [
            " 74%|███████▍  | 37237/50000 [00:18<00:06, 2032.39it/s]"
          ],
          "name": "stderr"
        },
        {
          "output_type": "stream",
          "text": [
            "-162.59042\n"
          ],
          "name": "stdout"
        },
        {
          "output_type": "stream",
          "text": [
            " 76%|███████▋  | 38250/50000 [00:19<00:05, 2006.42it/s]"
          ],
          "name": "stderr"
        },
        {
          "output_type": "stream",
          "text": [
            "-155.22305\n"
          ],
          "name": "stdout"
        },
        {
          "output_type": "stream",
          "text": [
            " 79%|███████▊  | 39257/50000 [00:19<00:05, 1996.03it/s]"
          ],
          "name": "stderr"
        },
        {
          "output_type": "stream",
          "text": [
            "-162.6414\n"
          ],
          "name": "stdout"
        },
        {
          "output_type": "stream",
          "text": [
            " 81%|████████  | 40266/50000 [00:20<00:04, 1968.33it/s]"
          ],
          "name": "stderr"
        },
        {
          "output_type": "stream",
          "text": [
            "-155.70903\n"
          ],
          "name": "stdout"
        },
        {
          "output_type": "stream",
          "text": [
            " 83%|████████▎ | 41285/50000 [00:20<00:04, 2014.84it/s]"
          ],
          "name": "stderr"
        },
        {
          "output_type": "stream",
          "text": [
            "-163.39418\n"
          ],
          "name": "stdout"
        },
        {
          "output_type": "stream",
          "text": [
            " 85%|████████▍ | 42275/50000 [00:21<00:04, 1916.93it/s]"
          ],
          "name": "stderr"
        },
        {
          "output_type": "stream",
          "text": [
            "-160.40279\n"
          ],
          "name": "stdout"
        },
        {
          "output_type": "stream",
          "text": [
            " 87%|████████▋ | 43281/50000 [00:21<00:03, 2002.28it/s]"
          ],
          "name": "stderr"
        },
        {
          "output_type": "stream",
          "text": [
            "-161.25348\n"
          ],
          "name": "stdout"
        },
        {
          "output_type": "stream",
          "text": [
            " 89%|████████▊ | 44294/50000 [00:22<00:02, 2008.89it/s]"
          ],
          "name": "stderr"
        },
        {
          "output_type": "stream",
          "text": [
            "-164.35034\n"
          ],
          "name": "stdout"
        },
        {
          "output_type": "stream",
          "text": [
            " 91%|█████████ | 45316/50000 [00:22<00:02, 2020.62it/s]"
          ],
          "name": "stderr"
        },
        {
          "output_type": "stream",
          "text": [
            "-162.79253\n"
          ],
          "name": "stdout"
        },
        {
          "output_type": "stream",
          "text": [
            " 93%|█████████▎| 46320/50000 [00:23<00:01, 1935.84it/s]"
          ],
          "name": "stderr"
        },
        {
          "output_type": "stream",
          "text": [
            "-162.60472\n"
          ],
          "name": "stdout"
        },
        {
          "output_type": "stream",
          "text": [
            " 95%|█████████▍| 47329/50000 [00:23<00:01, 1990.86it/s]"
          ],
          "name": "stderr"
        },
        {
          "output_type": "stream",
          "text": [
            "-157.80406\n"
          ],
          "name": "stdout"
        },
        {
          "output_type": "stream",
          "text": [
            " 97%|█████████▋| 48363/50000 [00:24<00:00, 2063.47it/s]"
          ],
          "name": "stderr"
        },
        {
          "output_type": "stream",
          "text": [
            "-160.35382\n"
          ],
          "name": "stdout"
        },
        {
          "output_type": "stream",
          "text": [
            " 99%|█████████▉| 49394/50000 [00:24<00:00, 2045.35it/s]"
          ],
          "name": "stderr"
        },
        {
          "output_type": "stream",
          "text": [
            "-162.05031\n"
          ],
          "name": "stdout"
        },
        {
          "output_type": "stream",
          "text": [
            "100%|██████████| 50000/50000 [00:25<00:00, 1982.27it/s]"
          ],
          "name": "stderr"
        },
        {
          "output_type": "stream",
          "text": [
            "[[ 33.201225]\n",
            " [ 35.005745]\n",
            " [149.36066 ]\n",
            " [ 21.218088]]\n",
            "[[1.4460093]\n",
            " [1.2078589]\n",
            " [2.165651 ]\n",
            " [2.6339035]]\n"
          ],
          "name": "stdout"
        },
        {
          "output_type": "stream",
          "text": [
            "\n"
          ],
          "name": "stderr"
        }
      ]
    },
    {
      "metadata": {
        "id": "BA0_sJLebGGK",
        "colab_type": "code",
        "colab": {
          "base_uri": "https://localhost:8080/",
          "height": 544
        },
        "outputId": "e48f978f-e322-411b-bc38-002732bbb1fa"
      },
      "cell_type": "code",
      "source": [
        "#@title\n",
        "tf.reset_default_graph()\n",
        "\n",
        "\n",
        "et = 2e-2\n",
        "\n",
        "with tf.device('/cpu:0'):\n",
        "    D = tf.constant(data.numpy())\n",
        "    X = D[:, 0:2]\n",
        "    Y = D[:, 2:3]\n",
        "    tfmv = tf.constant(mv)\n",
        "    tflsv = tf.constant(mls)\n",
        "    \n",
        "    vi_mean  = tf.Variable( mm )\n",
        "    vi_logsigma = tf.Variable( ms )\n",
        "\n",
        "    vi_mean_var  = tf.Variable( tf.zeros([4,1]) )\n",
        "    vi_logsigma_var = tf.Variable( tf.zeros([4,1]))\n",
        "\n",
        "    vi_sigma = tf.exp(vi_logsigma)\n",
        "\n",
        "    noi = tf.random_normal( [4, 1])\n",
        "\n",
        "    sample = noi * vi_sigma + vi_mean\n",
        "\n",
        "    co = sample[0:3,:]\n",
        "    coeff = sample[0:2,:]\n",
        "    intercept = sample[2,0]\n",
        "    logsigma = sample[3,0]\n",
        "    sigma = tf.exp(logsigma)\n",
        "\n",
        "    gamma = 1.0\n",
        "    x0 = 0.0\n",
        "\n",
        "    log_cauchy_sigma = math.log(math.pi) + math.log(gamma) + tf.log(  1.0 + tf.pow( sigma - x0, 2)/gamma)\n",
        "\n",
        "    log_cauchy_logsigma = math.log(2.0) - log_cauchy_sigma + logsigma\n",
        "\n",
        "    log_prior =   -tf.reduce_sum( tf.pow(co / 10.0, 2)  * 0.5  ) +  log_cauchy_logsigma\n",
        "\n",
        "\n",
        "    Yhat =  tf.matmul(X, coeff) + intercept\n",
        "    log_likelihood = -tf.reduce_sum(  tf.pow((Y-Yhat)/sigma , 2) * 0.5 + logsigma )\n",
        "\n",
        "    log_posterior = log_likelihood + log_prior\n",
        "\n",
        "    vi_loss = -(log_posterior + tf.reduce_sum(vi_logsigma)) \n",
        "    \n",
        "    vi_mean_grad, vi_logsigma_grad = tf.gradients(vi_loss, [vi_mean, vi_logsigma] )\n",
        "    vi_mean_noise = tf.random_normal( [4, 1]) * tf.sqrt(2*et / tfmv)\n",
        "    vi_logsigma_noise = tf.random_normal( [4, 1]) * tf.sqrt(2*et / tflsv)\n",
        "    \n",
        "    vi_mean_ops = tf.assign_sub(vi_mean, vi_mean_grad * et / tfmv + vi_mean_noise )\n",
        "    vi_logsigma_ops = tf.assign_sub(vi_logsigma, vi_logsigma_grad * et / tflsv + vi_logsigma_noise )\n",
        "    \n",
        "\n",
        "init = tf.global_variables_initializer()\n",
        "sess = tf.Session()\n",
        "sess.run(init)\n",
        "\n",
        "NN = 500000\n",
        "\n",
        "LLS = []\n",
        "for i in tqdm.tqdm(range(NN//2)):\n",
        "    ll,_,_, vivimean, vivilogsigma = \\\n",
        "    sess.run( (vi_loss, vi_mean_ops, vi_logsigma_ops, vi_mean, vi_logsigma) )\n",
        "    LLS.append(  (vivimean, vivilogsigma) )\n",
        "    #if i % 1000 == 0:\n",
        "    #    print(ll)\n"
      ],
      "execution_count": 217,
      "outputs": [
        {
          "output_type": "stream",
          "text": [
            "\n",
            "  0%|          | 0/250000 [00:00<?, ?it/s]\u001b[A\n",
            "  0%|          | 20/250000 [00:00<20:52, 199.57it/s]\u001b[A\n",
            "  0%|          | 232/250000 [00:00<15:11, 273.98it/s]\u001b[A\n",
            "  0%|          | 439/250000 [00:00<11:13, 370.32it/s]\u001b[A\n",
            "  0%|          | 647/250000 [00:00<08:27, 491.40it/s]\u001b[A\n",
            "  0%|          | 844/250000 [00:00<06:32, 633.99it/s]\u001b[A\n",
            "  0%|          | 1050/250000 [00:00<05:11, 800.02it/s]\u001b[A\n",
            "  1%|          | 1263/250000 [00:00<04:12, 983.83it/s]\u001b[A\n",
            "  1%|          | 1471/250000 [00:00<03:32, 1168.49it/s]\u001b[A\n",
            "  1%|          | 1676/250000 [00:00<03:05, 1340.71it/s]\u001b[A\n",
            "  1%|          | 1874/250000 [00:01<02:47, 1484.17it/s]\u001b[A\n",
            "  1%|          | 2070/250000 [00:01<02:36, 1589.06it/s]\u001b[A\n",
            "  1%|          | 2271/250000 [00:01<02:26, 1694.39it/s]\u001b[A\n",
            "  1%|          | 2484/250000 [00:01<02:17, 1803.28it/s]\u001b[A\n",
            "  1%|          | 2688/250000 [00:01<02:12, 1866.97it/s]\u001b[A\n",
            "  1%|          | 2890/250000 [00:01<02:09, 1908.89it/s]\u001b[A\n",
            "  1%|          | 3098/250000 [00:01<02:06, 1955.26it/s]\u001b[A\n",
            "  1%|▏         | 3302/250000 [00:01<02:05, 1962.34it/s]\u001b[A\n",
            "  1%|▏         | 3508/250000 [00:01<02:04, 1987.84it/s]\u001b[A\n",
            "  1%|▏         | 3716/250000 [00:01<02:02, 2013.35it/s]\u001b[A\n",
            "  2%|▏         | 3921/250000 [00:02<02:03, 1990.19it/s]\u001b[A\n",
            "  2%|▏         | 4123/250000 [00:02<02:03, 1996.42it/s]\u001b[A\n",
            "  2%|▏         | 4326/250000 [00:02<02:02, 2003.48it/s]\u001b[A\n",
            "  2%|▏         | 4530/250000 [00:02<02:01, 2012.61it/s]\u001b[A\n",
            "  2%|▏         | 4732/250000 [00:02<02:02, 1996.25it/s]\u001b[A\n",
            "  2%|▏         | 4942/250000 [00:02<02:01, 2023.96it/s]\u001b[A\n",
            "  2%|▏         | 5148/250000 [00:02<02:00, 2032.00it/s]\u001b[A\n",
            "  2%|▏         | 5362/250000 [00:02<01:58, 2059.48it/s]\u001b[A\n",
            " 15%|█▌        | 37574/250000 [00:30<02:49, 1252.34it/s]\n",
            "  5%|▍         | 11718/250000 [00:05<01:54, 2079.01it/s]"
          ],
          "name": "stderr"
        },
        {
          "output_type": "stream",
          "text": [
            "100%|██████████| 250000/250000 [02:06<00:00, 1978.83it/s]\n"
          ],
          "name": "stderr"
        }
      ]
    },
    {
      "metadata": {
        "id": "LVVjKsfPisSw",
        "colab_type": "code",
        "colab": {
          "base_uri": "https://localhost:8080/",
          "height": 870
        },
        "outputId": "301b6ccf-2fd6-437f-e808-35e4445b07b7"
      },
      "cell_type": "code",
      "source": [
        "rcParams['figure.figsize'] = 10,10\n",
        "\n",
        "for id in range(4):\n",
        "    for yy in range(2):\n",
        "        plt.subplot(4,2,id*2 + yy+1)\n",
        "        ss = [ sample[yy][id] for sample in LLS if not math.isnan(sample[yy][id])]\n",
        "        sns.distplot(ss)"
      ],
      "execution_count": 218,
      "outputs": [
        {
          "output_type": "stream",
          "text": [
            "/Users/xcode/anaconda3/lib/python3.6/site-packages/matplotlib/axes/_axes.py:6462: UserWarning: The 'normed' kwarg is deprecated, and has been replaced by the 'density' kwarg.\n",
            "  warnings.warn(\"The 'normed' kwarg is deprecated, and has been \"\n",
            "/Users/xcode/anaconda3/lib/python3.6/site-packages/matplotlib/axes/_axes.py:6462: UserWarning: The 'normed' kwarg is deprecated, and has been replaced by the 'density' kwarg.\n",
            "  warnings.warn(\"The 'normed' kwarg is deprecated, and has been \"\n",
            "/Users/xcode/anaconda3/lib/python3.6/site-packages/matplotlib/axes/_axes.py:6462: UserWarning: The 'normed' kwarg is deprecated, and has been replaced by the 'density' kwarg.\n",
            "  warnings.warn(\"The 'normed' kwarg is deprecated, and has been \"\n",
            "/Users/xcode/anaconda3/lib/python3.6/site-packages/matplotlib/axes/_axes.py:6462: UserWarning: The 'normed' kwarg is deprecated, and has been replaced by the 'density' kwarg.\n",
            "  warnings.warn(\"The 'normed' kwarg is deprecated, and has been \"\n",
            "/Users/xcode/anaconda3/lib/python3.6/site-packages/matplotlib/axes/_axes.py:6462: UserWarning: The 'normed' kwarg is deprecated, and has been replaced by the 'density' kwarg.\n",
            "  warnings.warn(\"The 'normed' kwarg is deprecated, and has been \"\n",
            "/Users/xcode/anaconda3/lib/python3.6/site-packages/matplotlib/axes/_axes.py:6462: UserWarning: The 'normed' kwarg is deprecated, and has been replaced by the 'density' kwarg.\n",
            "  warnings.warn(\"The 'normed' kwarg is deprecated, and has been \"\n",
            "/Users/xcode/anaconda3/lib/python3.6/site-packages/matplotlib/axes/_axes.py:6462: UserWarning: The 'normed' kwarg is deprecated, and has been replaced by the 'density' kwarg.\n",
            "  warnings.warn(\"The 'normed' kwarg is deprecated, and has been \"\n",
            "/Users/xcode/anaconda3/lib/python3.6/site-packages/matplotlib/axes/_axes.py:6462: UserWarning: The 'normed' kwarg is deprecated, and has been replaced by the 'density' kwarg.\n",
            "  warnings.warn(\"The 'normed' kwarg is deprecated, and has been \"\n"
          ],
          "name": "stderr"
        },
        {
          "output_type": "display_data",
          "data": {
            "text/plain": [
              "<Figure size 720x720 with 8 Axes>"
            ],
            "image/png": "[encoded data removed]"
          },
          "metadata": {
            "tags": []
          }
        }
      ]
    }
  ]
}